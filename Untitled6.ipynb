{
  "nbformat": 4,
  "nbformat_minor": 0,
  "metadata": {
    "colab": {
      "provenance": [],
      "authorship_tag": "ABX9TyNlLo2mo4MSS4nnuU1sRssP",
      "include_colab_link": true
    },
    "kernelspec": {
      "name": "python3",
      "display_name": "Python 3"
    },
    "language_info": {
      "name": "python"
    }
  },
  "cells": [
    {
      "cell_type": "markdown",
      "metadata": {
        "id": "view-in-github",
        "colab_type": "text"
      },
      "source": [
        "<a href=\"https://colab.research.google.com/github/MaximBatishchev/Maxim/blob/main/Untitled6.ipynb\" target=\"_parent\"><img src=\"https://colab.research.google.com/assets/colab-badge.svg\" alt=\"Open In Colab\"/></a>"
      ]
    },
    {
      "cell_type": "code",
      "execution_count": 6,
      "metadata": {
        "colab": {
          "base_uri": "https://localhost:8080/"
        },
        "id": "Qp4pU52Df3g-",
        "outputId": "25ed3261-4c81-4952-c7e4-2507d50394e5"
      },
      "outputs": [
        {
          "output_type": "stream",
          "name": "stdout",
          "text": [
            "Введите число4\n",
            "За числом 4 следует число  5\n",
            "Перед числом 4 идёт число  3\n"
          ]
        }
      ],
      "source": [
        "a = int(input(\"Введите число\"))\n",
        "print(\"За числом\", a, \"следует число \", a + 1)\n",
        "print(\"Перед числом\", a, \"идёт число \", a - 1)\n"
      ]
    }
  ]
}