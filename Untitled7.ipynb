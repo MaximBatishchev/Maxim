{
  "nbformat": 4,
  "nbformat_minor": 0,
  "metadata": {
    "colab": {
      "provenance": [],
      "authorship_tag": "ABX9TyNvbe0JSlDzIMAzIiRvHDro",
      "include_colab_link": true
    },
    "kernelspec": {
      "name": "python3",
      "display_name": "Python 3"
    },
    "language_info": {
      "name": "python"
    }
  },
  "cells": [
    {
      "cell_type": "markdown",
      "metadata": {
        "id": "view-in-github",
        "colab_type": "text"
      },
      "source": [
        "<a href=\"https://colab.research.google.com/github/MaximBatishchev/Maxim/blob/main/Untitled7.ipynb\" target=\"_parent\"><img src=\"https://colab.research.google.com/assets/colab-badge.svg\" alt=\"Open In Colab\"/></a>"
      ]
    },
    {
      "cell_type": "code",
      "execution_count": 5,
      "metadata": {
        "colab": {
          "base_uri": "https://localhost:8080/"
        },
        "id": "g2-5L7ojpAr2",
        "outputId": "738e41bf-1142-48b2-ce51-9e2655f0ab02"
      },
      "outputs": [
        {
          "output_type": "stream",
          "name": "stdout",
          "text": [
            "какое бы число ты ни ввёл, ряд арифметических операций превратит в конце это число в 45\n",
            "Число 5 Умноженное на 2, равно 10\n",
            "Если прибавить к 10 8, то получится 18\n",
            "Если разделить число 18 на 2, то получится 9.0\n",
            "Если отнять из 9.0 5 то получится 4\n"
          ]
        }
      ],
      "source": [
        "a = int(input(\"какое бы число ты ни ввёл, ряд арифметических операций превратит в конце это число в 4\"))\n",
        "print(\"Число\", a, \"Умноженное на 2, равно\", a*2)\n",
        "print(\"Если прибавить к\", a*2, \"8, то получится\", a*2+8)\n",
        "print(\"Если разделить число\", a*2+8, \"на 2, то получится\", (a*2+8)/2)\n",
        "print(\"Если отнять из\", (a*2+8)/2, a, \"то получится 4\")"
      ]
    }
  ]
}